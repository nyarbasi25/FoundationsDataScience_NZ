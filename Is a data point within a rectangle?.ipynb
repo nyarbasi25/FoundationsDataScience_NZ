{
 "cells": [
  {
   "cell_type": "markdown",
   "metadata": {},
   "source": [
    "**Example** `Is a data point within a rectangle?`"
   ]
  },
  {
   "cell_type": "markdown",
   "metadata": {},
   "source": [
    "Write a function `isIn()` which returns **boolean `True`** if a point is within a rectangle specified by two sets of coordinates and **boolean `False`** if the point is outside the rectangle. The function should accept three parameters:\n",
    "- the first parameter is a set of coordinates which defines one of the corners of the rectangle, \n",
    "- the second parameter is also a set of coordinates that defines the second corner,\n",
    "- the third set of coordinates defines a single point which is being tested.\n",
    "\n",
    "For example, \n",
    "- `isIn((1,2), (3,4), (1.5, 3.2))` should return `True`, \n",
    "- `isIn((4,3.5), (2,1), (3, 2))` should return `True`, \n",
    "- `isIn((-1,0), (5,5), (6,0))` should return `False`,\n",
    "- `isIn((4,1), (2,4), (2.5,4.5))` should return `False`.\n",
    "\n",
    "Test your function with at least 2 different sets of data points in addition to the examples above.\n",
    "\n",
    "**NOTES:** \n",
    "1. If the point being tested is on the side of the rectangle, consider it to be within the rectangle. For example, if the rectangle is defined as `(1,2), (3,4)` and the point is `(2,2)`, the function should return `True`.\n",
    "2. In this assignment, we assume that the edges of the rectangle are parallel to coordinate axes.\n",
    "3. We also assume that the first parameter does not always represent the left corner of the rectangle and the second parameter is not always the right corner. The function should work correctly either way. Please note the second test condition above where the first parameter, `(4,3.5)`, represents the top-right corner and the second parameter, `(2,1)`, represents left-bottom corner. "
   ]
  },
  {
   "cell_type": "code",
   "execution_count": 4,
   "metadata": {},
   "outputs": [
    {
     "name": "stdout",
     "output_type": "stream",
     "text": [
      "True\n",
      "True\n",
      "False\n",
      "False\n"
     ]
    }
   ],
   "source": [
    "#Is a point within a rectangle?\n",
    "def isIn(firstCorner=(0,0),secondCorner=(0,0),point=(0,0)):\n",
    "\n",
    "   #assign values to variables\n",
    "   x1,y1=firstCorner[0],firstCorner[1]\n",
    "   x2,y2=secondCorner[0],secondCorner[1]\n",
    "\n",
    "   x,y=point[0],point[1]\n",
    "   #A point lies inside or not the rectangle if and only if it’s x-coordinate lies between the x-coordinate of the given bottom-right\n",
    "   #and top-left coordinates of the rectangle and y-coordinate lies between the y-coordinate of the given bottom-right and top-left coordinates.\n",
    "   if (x >= x1 and x <= x2 and y >= y1 and y <= y2) :\n",
    "       return True\n",
    "   #alternate case if coordinates are in reverse order\n",
    "   elif(x >= x2 and x <= x1 and y >= y2 and y <= y1):\n",
    "       return True\n",
    "\n",
    "   else:\n",
    "       return False\n",
    "\n",
    "#testing the function\n",
    "print(isIn((1,2),(3,4),(1.5,3.2)))\n",
    "print(isIn((4,3.5),(2,1),(3,2)))\n",
    "print(isIn((-1,0),(5,5),(6,0)))\n",
    "print(isIn((4,1),(2,4),(2.5,4.5)))"
   ]
  },
  {
   "cell_type": "code",
   "execution_count": null,
   "metadata": {},
   "outputs": [],
   "source": []
  },
  {
   "cell_type": "code",
   "execution_count": null,
   "metadata": {},
   "outputs": [],
   "source": []
  }
 ],
 "metadata": {
  "kernelspec": {
   "display_name": "Python 3",
   "language": "python",
   "name": "python3"
  },
  "language_info": {
   "codemirror_mode": {
    "name": "ipython",
    "version": 3
   },
   "file_extension": ".py",
   "mimetype": "text/x-python",
   "name": "python",
   "nbconvert_exporter": "python",
   "pygments_lexer": "ipython3",
   "version": "3.7.1"
  }
 },
 "nbformat": 4,
 "nbformat_minor": 2
}
