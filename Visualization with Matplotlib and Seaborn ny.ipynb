{
 "cells": [
  {
   "cell_type": "markdown",
   "metadata": {},
   "source": [
    "`Matplotlib` is Python's plotting library and `pyplot` is matplotlib's module that provides an interface that allows us to implicitly and automatically create plots. It allows us to define any and all parameters of the plot, such as, for example, titles for the axes, grid, type of the plot, colour of the line, etc.\n",
    "\n",
    "\n",
    "To start using the matplotlib library, we need to import it. Usually, Anaconda includes matplotlib pre-installed — all we need to do is to write the import statement in the notebook before we use the library to visualize data. `%matplotlib inline`  will tell Jupyter that we want the output of matplotlib commands, the graphs, to be displayed within the notebook, not in a separate window.\n"
   ]
  },
  {
   "cell_type": "code",
   "execution_count": 5,
   "metadata": {},
   "outputs": [],
   "source": [
    "import numpy as np\n",
    "import pandas as pd\n",
    "import matplotlib.pyplot as plt\n",
    "%matplotlib inline\n",
    "# This will ignore the warnings\n",
    "#import warnings\n",
    "#warnings.filterwarnings(\"ignore\")"
   ]
  },
  {
   "cell_type": "code",
   "execution_count": 5,
   "metadata": {},
   "outputs": [
    {
     "name": "stdout",
     "output_type": "stream",
     "text": [
      "['seaborn-dark', 'seaborn-darkgrid', 'seaborn-ticks', 'fivethirtyeight', 'seaborn-whitegrid', 'classic', '_classic_test', 'fast', 'seaborn-talk', 'seaborn-dark-palette', 'seaborn-bright', 'seaborn-pastel', 'grayscale', 'seaborn-notebook', 'ggplot', 'seaborn-colorblind', 'seaborn-muted', 'seaborn', 'Solarize_Light2', 'seaborn-paper', 'bmh', 'tableau-colorblind10', 'seaborn-white', 'dark_background', 'seaborn-poster', 'seaborn-deep']\n"
     ]
    }
   ],
   "source": [
    "print(plt.style.available) #The style package offers several predefined styles and allows you to define your own."
   ]
  },
  {
   "cell_type": "code",
   "execution_count": 6,
   "metadata": {},
   "outputs": [],
   "source": [
    "plt.style.use(style='ggplot') #very popular plotting package for R."
   ]
  },
  {
   "cell_type": "markdown",
   "metadata": {},
   "source": [
    "### Line Plots"
   ]
  },
  {
   "cell_type": "code",
   "execution_count": 7,
   "metadata": {},
   "outputs": [
    {
     "data": {
      "text/plain": [
       "array([ 0.16106019,  0.8541917 ,  2.65092842,  1.34853744,  1.33075719,\n",
       "        2.27932255,  2.8805972 ,  1.49610487,  1.44968005,  3.53633021,\n",
       "        2.90631196,  1.99068824,  0.78164342,  2.07170525,  3.9132332 ,\n",
       "        3.66930991,  2.533599  ,  2.01309637,  3.11539671,  3.19662508,\n",
       "        3.36103914,  4.21995174,  4.971839  ,  3.81425577,  2.08870033,\n",
       "       -1.51445708, -2.19238107, -2.54066028, -1.78445785, -2.271674  ,\n",
       "        0.18632619,  0.20932108,  2.19110452,  3.27456037,  1.40739634,\n",
       "        3.02021719,  2.99692953,  2.74278046,  3.72497993,  4.46844608,\n",
       "        5.3276426 ,  6.50900673,  6.53998729,  7.02250562,  6.57461956,\n",
       "        7.02148527,  7.33021874,  8.61960625,  9.12962436,  8.37643814,\n",
       "        7.56695923,  8.01594271,  7.51304776,  7.67035639,  6.99411836,\n",
       "        7.09422947,  7.92721477,  8.03247641,  9.68257133, 10.41454101])"
      ]
     },
     "execution_count": 7,
     "metadata": {},
     "output_type": "execute_result"
    }
   ],
   "source": [
    "# X axis - 60 evenly spaced numbers between 0 and 1\n",
    "\n",
    "x = np.linspace(0, 1, 60)\n",
    "\n",
    "y = np.random.randn(len(x)).cumsum()\n",
    "y"
   ]
  },
  {
   "cell_type": "code",
   "execution_count": null,
   "metadata": {},
   "outputs": [
    {
     "data": {
      "text/plain": [
       "[<matplotlib.lines.Line2D at 0x7fda2efbcba8>]"
      ]
     },
     "execution_count": 8,
     "metadata": {},
     "output_type": "execute_result"
    }
   ],
   "source": [
    "#plt.plot(x,y) # or try\n",
    "plt.plot(x,y, color = 'blue', linestyle = '--')"
   ]
  },
  {
   "cell_type": "code",
   "execution_count": null,
   "metadata": {},
   "outputs": [],
   "source": [
    "x_sincon = np.linspace(-np.pi, np.pi, 200, endpoint=True)  #X is 200 equally spaced points from -$pi$  to $pi$ (to include $pi$, we will use the `endpoint=True` parameter)\n",
    "\n",
    "cosine, sine = np.cos(x_sincon), np.sin(x_sincon) #the plot will depict two lines, the sine and cosine graphs as functions of X\n",
    "\n",
    "\n",
    "# To plot both functions on the same graph, we simply list them one after another\n",
    "\n",
    "plt.plot(x_sincon, cosine)    # plotting cosine function, red line\n",
    "plt.plot(x_sincon, sine)      # plotting sine function, blue line\n",
    "\n",
    "#or \n",
    "#plt.plot(x_sincon, cosine, x_sincon, sine)"
   ]
  },
  {
   "cell_type": "code",
   "execution_count": null,
   "metadata": {},
   "outputs": [],
   "source": [
    "# We can make the plot a little bigger\n",
    "# we can change the style of the lines\n",
    "\n",
    "plt.figure(figsize=(10,5))\n",
    "plt.plot(x_sincon, cosine, linestyle='dotted', color=\"red\")     # plotting cosine function, red dotted line\n",
    "plt.plot(x_sincon, sine, linestyle='dashed', color=\"blue\")       # plotting sine function, blue dashed line"
   ]
  },
  {
   "cell_type": "code",
   "execution_count": null,
   "metadata": {},
   "outputs": [],
   "source": [
    "plt.figure(figsize=(10,5))\n",
    "\n",
    "plt.plot(x_sincon, cosine, linestyle='dotted', color=\"red\", label = 'cos(x)')       # adding label parameter \n",
    "plt.plot(x_sincon, sine, linestyle='dashed', color=\"blue\", label = 'sin(x)')    # adding the color parameter and label\n",
    "\n",
    "plt.ylabel(\"Y values\")   # title of the Y axis\n",
    "plt.xlabel(\"X values\")   # title of the X axis\n",
    "plt.title(\"Sine and cosine functions\")   # plot title, will be displayed above the plot\n",
    "plt.legend(loc='best')             # whether the legend has to be dispayed on the plot and how try 'upper left'\n",
    "\n",
    "plt.legend(loc='upper left')\n",
    "plt.xticks([-np.pi, -np.pi/2, 0, np.pi/2, np.pi],   #updating ticks\n",
    "       [r'$-\\pi$', r'$-\\pi/2$', r'$0$', r'$+\\pi/2$', r'$+\\pi$'])\n",
    "\n",
    "plt.show();"
   ]
  },
  {
   "cell_type": "markdown",
   "metadata": {},
   "source": [
    "### Histograms"
   ]
  },
  {
   "cell_type": "code",
   "execution_count": null,
   "metadata": {
    "scrolled": true
   },
   "outputs": [],
   "source": [
    "mu = 100        # mean of distribution\n",
    "sigma10 = 10    # standard deviation of distribution, first value of sigma = 10\n",
    "sigma30 = 30    # standard deviation of distribution, second value of sigma = 30\n",
    "\n",
    "# Creating two arrays of 10,000 random numbers each with the same mean = 100\n",
    "# but different standard deviations:\n",
    "x10 = np.random.normal(loc=mu, scale=sigma10, size=10000)\n",
    "x30 = np.random.normal(loc=mu, scale=sigma30, size=10000)\n",
    "\n",
    "# Another way of getting the same result as the lines of code above:\n",
    "# x10 = mu + sigma10 * np.random.randn(10000)\n",
    "# x30 = mu + sigma30 * np.random.randn(10000)\n",
    "\n",
    "# Size of the histogram plot:\n",
    "plt.figure(figsize=(20,10))\n",
    "\n",
    "# Number of bins to be created\n",
    "num_bins = 200\n",
    "\n",
    "n, bins, patches = plt.hist(x30, num_bins, density=1, facecolor='b', alpha=0.8, label='$\\sigma=30$')\n",
    "n, bins, patches = plt.hist(x10, num_bins, density=1, facecolor='green', alpha=0.6, label='$\\sigma=10$')\n",
    "\n",
    "plt.title(\"Distributions with $\\mu=100$, and std deviations $\\sigma=10$ and $\\sigma=30$\")\n",
    "plt.xlabel(\"X\")\n",
    "plt.ylabel(\"Frequencies\")\n",
    "plt.legend()\n",
    "\n",
    "# Tweak spacing to prevent clipping of ylabel\n",
    "plt.subplots_adjust(left=0.15)\n",
    "plt.show()\n",
    "\n",
    "\n",
    "\n",
    " #saving plot as a file\n",
    "plt.savefig(\"pic.pdf\") "
   ]
  },
  {
   "cell_type": "markdown",
   "metadata": {},
   "source": [
    "The plot in Matplotlib is a collection of objects: the *figure* as a container which holds *axes*, *tick marks*, plot *lines*, *legends*, and other objects which we can easily customize for the specific graph we are drawing. This is how matplotlib presents this concept:\n",
    "\n",
    "![Anatomy of a Figure](https://matplotlib.org/_images/anatomy.png \"Anatomy of a Figure\")\n",
    "\n",
    "**Picture 3:** [Anatomy of a Figure](https://matplotlib.org/examples/showcase/anatomy.html)"
   ]
  },
  {
   "cell_type": "markdown",
   "metadata": {},
   "source": [
    "###  Subplots"
   ]
  },
  {
   "cell_type": "code",
   "execution_count": null,
   "metadata": {},
   "outputs": [],
   "source": [
    "f, (ax1, ax2) = plt.subplots(1, 2, sharey=True, figsize=(8, 4))  # one row and two columns of subplots\n",
    "ax1.plot(x_sincon, cosine, '--r', label = 'cos(x)')\n",
    "ax1.set_title('Sharing Y axis')\n",
    "ax2.plot(x_sincon, sine, ':g', label = 'sin(x)', color = 'green')"
   ]
  },
  {
   "cell_type": "markdown",
   "metadata": {},
   "source": [
    "### Bar Charts"
   ]
  },
  {
   "cell_type": "code",
   "execution_count": null,
   "metadata": {},
   "outputs": [],
   "source": [
    "# Bar Chart\n",
    "\n",
    "n_groups = 3                # number of groups of numbers\n",
    "productA = (10, 15, 7)     # product A\n",
    "productB = (11, 15, 11)    # product B\n",
    "\n",
    "ind = np.arange(n_groups)   # the X locations for the groups of data\n",
    "width = 0.25                # width of the bar\n",
    "fig, ax = plt.subplots(figsize=(8, 6))   # drawing both sets in one subplot\n",
    "\n",
    "prodAchart = ax.bar(ind, productA, width, color='blue', align='center')\n",
    "prodBchart = ax.bar(ind+width, productB, width, color='red', align='center')\n",
    "\n",
    "# add some text for labels, title and axes ticks\n",
    "ax.set(title = 'Bar Chart', xticks = ind + width/2,\n",
    "      xticklabels = ['Sample 1', 'Sample 2', 'Sample 3'])\n",
    "\n",
    "ax.legend((prodAchart[0], prodBchart[0]), ('Product A', 'Product B'))\n",
    "\n",
    "plt.show()"
   ]
  },
  {
   "cell_type": "code",
   "execution_count": null,
   "metadata": {},
   "outputs": [],
   "source": [
    "\n",
    "prov_support = pd.read_csv('pandas_ex1.csv', \n",
    "                           sep=',', \n",
    "                           skiprows=1,  \n",
    "                           header=None,  \n",
    "                           names=['province_name','province','2016','2017','2018'], \n",
    "                           index_col='province')\n",
    "\n",
    "prov_support"
   ]
  },
  {
   "cell_type": "code",
   "execution_count": null,
   "metadata": {},
   "outputs": [],
   "source": [
    "provinces = prov_support[['2016', '2017', '2018']].plot(kind='bar', legend = True, figsize=(10,6))\n",
    "plt.show();"
   ]
  },
  {
   "cell_type": "markdown",
   "metadata": {},
   "source": [
    "### Scatter plot"
   ]
  },
  {
   "cell_type": "code",
   "execution_count": null,
   "metadata": {},
   "outputs": [],
   "source": [
    "# Scatter Plot\n",
    "\n",
    "n = 500      # number of dots\n",
    "x_scatter = np.random.normal(0, 2, n)\n",
    "y_scatter = np.random.normal(0, 2, n)\n",
    "colors = np.random.rand(n)\n",
    "\n",
    "# axes([left, bottom, width, height])\n",
    "plt.axes([-2, -2, 2, 2])\n",
    "plt.scatter(x_scatter, y_scatter, c = colors)\n",
    "\n",
    "# limits the values of x and y axes\n",
    "plt.xlim(-2, 2)\n",
    "plt.ylim(-2, 2)\n",
    "\n",
    "#plt.xticks(()) and plt.yticks(())\n",
    "plt.show()\n",
    "\n",
    "#If we don't want matplotlib to draw any ticks on the plot, we can use the following function calls: \n",
    "#plt.xticks(()) and plt.yticks(()) before plt.show().\n"
   ]
  },
  {
   "cell_type": "markdown",
   "metadata": {},
   "source": [
    "### Pie chart"
   ]
  },
  {
   "cell_type": "code",
   "execution_count": null,
   "metadata": {},
   "outputs": [],
   "source": [
    "# Pie Chart\n",
    "\n",
    "# number of sections on the chart\n",
    "N = 6\n",
    "data = [1, 2, 5, 3, 7]\n",
    "\n",
    "# to ensure axes are square\n",
    "plt.axes([0, 0, 0.9, 0.9])\n",
    "# or axes(aspect=1)\n",
    "\n",
    "# explode specifies the fraction of the radius with which to offset each wedge\n",
    "plt.pie(data, explode = (0.15, 0, 0, 0, 0.1), \n",
    "        labels = (\"Red\", \"Green\", \"Blue\", \"Yellow\",\"orange\"), \n",
    "        colors = [\"red\", \"green\", \"blue\", \"yellow\",\"orange\"])\n",
    "plt.axis('equal')\n",
    "\n",
    "plt.show()"
   ]
  },
  {
   "cell_type": "markdown",
   "metadata": {},
   "source": [
    "## Seaborn"
   ]
  },
  {
   "cell_type": "markdown",
   "metadata": {},
   "source": [
    "Seaborn is an open source Python data visualization library built on top of matplotlib. It provides a high-level interface for drawing statistical graphs and integrates very well with pandas DataFrames, allowing us to easily visualize data from DataFrames."
   ]
  },
  {
   "cell_type": "code",
   "execution_count": 6,
   "metadata": {},
   "outputs": [],
   "source": [
    "import seaborn as sns\n",
    "# next line of code sets the graph style to a seaborn style\n",
    "sns.set()\n",
    "\n",
    "\n",
    "iris = pd.read_csv('iris.data', sep=',', \n",
    "                   header=None,  # the data file does not contain a header\n",
    "                   names=['sepal length','sepal width','petal length','petal width','class'] # names of columns\n",
    "                  )\n"
   ]
  },
  {
   "cell_type": "code",
   "execution_count": null,
   "metadata": {},
   "outputs": [],
   "source": [
    "sns.distplot(iris['sepal length'])"
   ]
  },
  {
   "cell_type": "code",
   "execution_count": null,
   "metadata": {},
   "outputs": [],
   "source": [
    "sns.swarmplot(x=iris['class'], y=iris['petal length'], data=iris) #It is useful for datasets containing categorical variables."
   ]
  },
  {
   "cell_type": "code",
   "execution_count": null,
   "metadata": {},
   "outputs": [],
   "source": [
    "sns.pairplot(iris, hue=\"class\", diag_kind = 'kde', markers=[\"o\", \"s\", \"D\"]) #It draws a matrix of pairwise relationships in a dataset. "
   ]
  },
  {
   "cell_type": "code",
   "execution_count": null,
   "metadata": {},
   "outputs": [],
   "source": []
  }
 ],
 "metadata": {
  "kernelspec": {
   "display_name": "Python 3",
   "language": "python",
   "name": "python3"
  },
  "language_info": {
   "codemirror_mode": {
    "name": "ipython",
    "version": 3
   },
   "file_extension": ".py",
   "mimetype": "text/x-python",
   "name": "python",
   "nbconvert_exporter": "python",
   "pygments_lexer": "ipython3",
   "version": "3.7.1"
  }
 },
 "nbformat": 4,
 "nbformat_minor": 2
}
