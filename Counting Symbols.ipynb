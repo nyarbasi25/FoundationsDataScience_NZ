{
 "cells": [
  {
   "cell_type": "markdown",
   "metadata": {},
   "source": [
    "**Example** `Count Symbols`"
   ]
  },
  {
   "cell_type": "markdown",
   "metadata": {},
   "source": [
    "In this example, you are given a string `s` which represents a DNA string. The string `s` consists of symbols `'A', 'C', 'G',` and `'T'`. An example of a length 21 DNA string is `\"ATGCTTCAGAAAGGTCTTACG.\"` \n",
    "\n",
    "The task is to write a code which will count the number of times each of the symbols `'A', 'C', 'G'`, and `'T'` occur in `s`. The code should generate a **list of 4 integers** and **print it out**."
   ]
  },
  {
   "cell_type": "markdown",
   "metadata": {},
   "source": [
    "Here is the DNA string:\n",
    "\n",
    "s = 'ATGCCTTTGCGTCCGGTTCATTCTGACTGCAACGGGCAATATGTCTCTGTGTGGATTAAAAAAAGAGTGTCTGATAGCAGC'"
   ]
  },
  {
   "cell_type": "code",
   "execution_count": 9,
   "metadata": {},
   "outputs": [
    {
     "name": "stdout",
     "output_type": "stream",
     "text": [
      "{'A': 20, 'T': 24, 'G': 21, 'C': 16}\n"
     ]
    }
   ],
   "source": [
    "#answer 1\n",
    "s = 'ATGCCTTTGCGTCCGGTTCATTCTGACTGCAACGGGCAATATGTCTCTGTGTGGATTAAAAAAAGAGTGTCTGATAGCAGC'\n",
    "symbol_count_dictionary = {}\n",
    "\n",
    "for c in s:\n",
    "    if c not in symbol_count_dictionary:\n",
    "        symbol_count_dictionary[c] = 1\n",
    "    else:\n",
    "        symbol_count_dictionary[c] += 1\n",
    "\n",
    "print(symbol_count_dictionary)"
   ]
  },
  {
   "cell_type": "code",
   "execution_count": 10,
   "metadata": {},
   "outputs": [
    {
     "name": "stdout",
     "output_type": "stream",
     "text": [
      "Counter({'T': 24, 'G': 21, 'A': 20, 'C': 16})\n"
     ]
    }
   ],
   "source": [
    "#answer 2\n",
    "from collections import Counter\n",
    "s = 'ATGCCTTTGCGTCCGGTTCATTCTGACTGCAACGGGCAATATGTCTCTGTGTGGATTAAAAAAAGAGTGTCTGATAGCAGC'\n",
    "a = Counter(s)\n",
    "print (a)"
   ]
  },
  {
   "cell_type": "code",
   "execution_count": 11,
   "metadata": {},
   "outputs": [
    {
     "name": "stdout",
     "output_type": "stream",
     "text": [
      "A: 20 C: 16 G: 21 T: 24\n"
     ]
    }
   ],
   "source": [
    "# or longer version would be\n",
    "CntA = 0\n",
    "CntC = 0\n",
    "CntG = 0\n",
    "CntT = 0\n",
    "\n",
    "for i in s:\n",
    "    if i==\"A\":\n",
    "        CntA += 1\n",
    "    elif i==\"C\":\n",
    "        CntC += 1\n",
    "    elif i==\"G\":\n",
    "        CntG += 1\n",
    "    else: \n",
    "        CntT += 1\n",
    "\n",
    "print(\"A:\", CntA,\"C:\", CntC,\"G:\", CntG,\"T:\",CntT)\n",
    "    "
   ]
  },
  {
   "cell_type": "code",
   "execution_count": null,
   "metadata": {},
   "outputs": [],
   "source": []
  }
 ],
 "metadata": {
  "kernelspec": {
   "display_name": "Python 3",
   "language": "python",
   "name": "python3"
  },
  "language_info": {
   "codemirror_mode": {
    "name": "ipython",
    "version": 3
   },
   "file_extension": ".py",
   "mimetype": "text/x-python",
   "name": "python",
   "nbconvert_exporter": "python",
   "pygments_lexer": "ipython3",
   "version": "3.7.1"
  }
 },
 "nbformat": 4,
 "nbformat_minor": 2
}
