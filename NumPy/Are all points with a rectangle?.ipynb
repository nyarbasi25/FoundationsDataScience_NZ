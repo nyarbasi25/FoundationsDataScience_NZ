{
 "cells": [
  {
   "cell_type": "markdown",
   "metadata": {},
   "source": [
    "**Example** `Are all points within a rectangle?`"
   ]
  },
  {
   "cell_type": "markdown",
   "metadata": {},
   "source": [
    "Modify your function from the previous question so it takes a list of points rather than a single point and returns **boolean `True`** only if all points in the list are in the rectangle.\n",
    "\n",
    "For example,\n",
    "\n",
    "- `allIn((0,0), (5,5), [(1,1), (0,0), (5,5)])` should return `True`\n",
    "- but `allIn((0,0), (5,5), [(1,1), (0,0), (5,6)])` should return `False`\n",
    "- empty list of points `allIn((0,0), (5,5), [])` should return `False`\n",
    "\n",
    "Use the same assumptions as above about the placement of the points and how rectangle is defined. Make sure that your function returns `False` for empty list of points (no values).\n"
   ]
  },
  {
   "cell_type": "code",
   "execution_count": 7,
   "metadata": {},
   "outputs": [],
   "source": [
    "def allIn(firstCorner=(0,0), secondCorner=(0,0), pointList=[]):\n",
    "   fc1,sc1=firstCorner[0],firstCorner[1]\n",
    "   fc2,sc2=secondCorner[0],secondCorner[1]\n",
    "   inside = False\n",
    "   for point in pointList:\n",
    "       fc,sc=point[0],point[1]\n",
    "       if (fc >= fc1 and fc <= fc2 and sc >= sc1 and sc <= sc2) :\n",
    "           inside = True\n",
    "       elif(fc >= fc2 and fc <= fc1 and sc >= sc2 and sc <= sc1):\n",
    "           inside = True\n",
    "       else:\n",
    "           return False\n",
    "   return inside"
   ]
  },
  {
   "cell_type": "code",
   "execution_count": 8,
   "metadata": {},
   "outputs": [
    {
     "data": {
      "text/plain": [
       "True"
      ]
     },
     "execution_count": 8,
     "metadata": {},
     "output_type": "execute_result"
    }
   ],
   "source": [
    "allIn((0,0), (5,5), [(1,1), (0,0), (5,5)])"
   ]
  },
  {
   "cell_type": "code",
   "execution_count": 9,
   "metadata": {},
   "outputs": [
    {
     "data": {
      "text/plain": [
       "False"
      ]
     },
     "execution_count": 9,
     "metadata": {},
     "output_type": "execute_result"
    }
   ],
   "source": [
    "allIn((0,0), (5,5), [(1,1), (0,0), (5,6)])"
   ]
  },
  {
   "cell_type": "code",
   "execution_count": 10,
   "metadata": {},
   "outputs": [
    {
     "data": {
      "text/plain": [
       "False"
      ]
     },
     "execution_count": 10,
     "metadata": {},
     "output_type": "execute_result"
    }
   ],
   "source": [
    "allIn((0,0), (5,5), [])"
   ]
  },
  {
   "cell_type": "code",
   "execution_count": null,
   "metadata": {},
   "outputs": [],
   "source": []
  }
 ],
 "metadata": {
  "kernelspec": {
   "display_name": "Python 3",
   "language": "python",
   "name": "python3"
  },
  "language_info": {
   "codemirror_mode": {
    "name": "ipython",
    "version": 3
   },
   "file_extension": ".py",
   "mimetype": "text/x-python",
   "name": "python",
   "nbconvert_exporter": "python",
   "pygments_lexer": "ipython3",
   "version": "3.7.1"
  }
 },
 "nbformat": 4,
 "nbformat_minor": 2
}
